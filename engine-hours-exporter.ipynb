{
 "cells": [
  {
   "cell_type": "code",
   "execution_count": 9,
   "metadata": {},
   "outputs": [
    {
     "name": "stdout",
     "output_type": "stream",
     "text": [
      "Requirement already satisfied: influxdb-client in /Users/mariorodriguez/influxdb-notebook-env/lib/python3.13/site-packages (1.48.0)\n",
      "Requirement already satisfied: reactivex>=4.0.4 in /Users/mariorodriguez/influxdb-notebook-env/lib/python3.13/site-packages (from influxdb-client) (4.0.4)\n",
      "Requirement already satisfied: certifi>=14.05.14 in /Users/mariorodriguez/influxdb-notebook-env/lib/python3.13/site-packages (from influxdb-client) (2025.4.26)\n",
      "Requirement already satisfied: python-dateutil>=2.5.3 in /Users/mariorodriguez/influxdb-notebook-env/lib/python3.13/site-packages (from influxdb-client) (2.9.0.post0)\n",
      "Requirement already satisfied: setuptools>=21.0.0 in /Users/mariorodriguez/influxdb-notebook-env/lib/python3.13/site-packages (from influxdb-client) (80.4.0)\n",
      "Requirement already satisfied: urllib3>=1.26.0 in /Users/mariorodriguez/influxdb-notebook-env/lib/python3.13/site-packages (from influxdb-client) (2.4.0)\n",
      "Requirement already satisfied: six>=1.5 in /Users/mariorodriguez/influxdb-notebook-env/lib/python3.13/site-packages (from python-dateutil>=2.5.3->influxdb-client) (1.17.0)\n",
      "Requirement already satisfied: typing-extensions<5.0.0,>=4.1.1 in /Users/mariorodriguez/influxdb-notebook-env/lib/python3.13/site-packages (from reactivex>=4.0.4->influxdb-client) (4.13.2)\n",
      "Requirement already satisfied: pandas in /Users/mariorodriguez/influxdb-notebook-env/lib/python3.13/site-packages (2.2.3)\n",
      "Requirement already satisfied: numpy>=1.26.0 in /Users/mariorodriguez/influxdb-notebook-env/lib/python3.13/site-packages (from pandas) (2.2.5)\n",
      "Requirement already satisfied: python-dateutil>=2.8.2 in /Users/mariorodriguez/influxdb-notebook-env/lib/python3.13/site-packages (from pandas) (2.9.0.post0)\n",
      "Requirement already satisfied: pytz>=2020.1 in /Users/mariorodriguez/influxdb-notebook-env/lib/python3.13/site-packages (from pandas) (2025.2)\n",
      "Requirement already satisfied: tzdata>=2022.7 in /Users/mariorodriguez/influxdb-notebook-env/lib/python3.13/site-packages (from pandas) (2025.2)\n",
      "Requirement already satisfied: six>=1.5 in /Users/mariorodriguez/influxdb-notebook-env/lib/python3.13/site-packages (from python-dateutil>=2.8.2->pandas) (1.17.0)\n",
      "Requirement already satisfied: matplotlib in /Users/mariorodriguez/influxdb-notebook-env/lib/python3.13/site-packages (3.10.3)\n",
      "Requirement already satisfied: contourpy>=1.0.1 in /Users/mariorodriguez/influxdb-notebook-env/lib/python3.13/site-packages (from matplotlib) (1.3.2)\n",
      "Requirement already satisfied: cycler>=0.10 in /Users/mariorodriguez/influxdb-notebook-env/lib/python3.13/site-packages (from matplotlib) (0.12.1)\n",
      "Requirement already satisfied: fonttools>=4.22.0 in /Users/mariorodriguez/influxdb-notebook-env/lib/python3.13/site-packages (from matplotlib) (4.58.0)\n",
      "Requirement already satisfied: kiwisolver>=1.3.1 in /Users/mariorodriguez/influxdb-notebook-env/lib/python3.13/site-packages (from matplotlib) (1.4.8)\n",
      "Requirement already satisfied: numpy>=1.23 in /Users/mariorodriguez/influxdb-notebook-env/lib/python3.13/site-packages (from matplotlib) (2.2.5)\n",
      "Requirement already satisfied: packaging>=20.0 in /Users/mariorodriguez/influxdb-notebook-env/lib/python3.13/site-packages (from matplotlib) (25.0)\n",
      "Requirement already satisfied: pillow>=8 in /Users/mariorodriguez/influxdb-notebook-env/lib/python3.13/site-packages (from matplotlib) (11.2.1)\n",
      "Requirement already satisfied: pyparsing>=2.3.1 in /Users/mariorodriguez/influxdb-notebook-env/lib/python3.13/site-packages (from matplotlib) (3.2.3)\n",
      "Requirement already satisfied: python-dateutil>=2.7 in /Users/mariorodriguez/influxdb-notebook-env/lib/python3.13/site-packages (from matplotlib) (2.9.0.post0)\n",
      "Requirement already satisfied: six>=1.5 in /Users/mariorodriguez/influxdb-notebook-env/lib/python3.13/site-packages (from python-dateutil>=2.7->matplotlib) (1.17.0)\n",
      "Requirement already satisfied: openpyxl in /Users/mariorodriguez/influxdb-notebook-env/lib/python3.13/site-packages (3.1.5)\n",
      "Requirement already satisfied: et-xmlfile in /Users/mariorodriguez/influxdb-notebook-env/lib/python3.13/site-packages (from openpyxl) (2.0.0)\n"
     ]
    }
   ],
   "source": [
    "# Install dependencies\n",
    "!pip install influxdb-client\n",
    "!pip install pandas\n",
    "!pip install matplotlib\n",
    "!pip install openpyxl"
   ]
  },
  {
   "cell_type": "code",
   "execution_count": 10,
   "metadata": {},
   "outputs": [],
   "source": [
    "# Imports\n",
    "from influxdb_client import InfluxDBClient\n",
    "import pandas as pd\n",
    "from pandas import ExcelWriter\n",
    "import matplotlib.pyplot as plt\n",
    "from openpyxl import load_workbook\n",
    "from openpyxl.styles import Font\n",
    "from openpyxl.utils import get_column_letter"
   ]
  },
  {
   "cell_type": "markdown",
   "metadata": {},
   "source": [
    "### Connect to InfluxDB"
   ]
  },
  {
   "cell_type": "code",
   "execution_count": 11,
   "metadata": {},
   "outputs": [
    {
     "name": "stdout",
     "output_type": "stream",
     "text": [
      "Connection to InfluxDB successful!\n"
     ]
    }
   ],
   "source": [
    "# Replace with your actual credentials\n",
    "INFLUX_TOKEN    = \"MBvDM01ijpsccsMMO0G_EG2ExJUq1sBZ4bLMAy1M8c5gDxJN8XAjp8ZzS49cLj6W8BTyTnm6GGYDEl7znTMHGg==\"\n",
    "INFLUX_HOST     = \"https://us-east-1-1.aws.cloud2.influxdata.com\"\n",
    "INFLUX_BUCKET   = \"Production\"\n",
    "INFLUX_ORG      = \"c039d48f2e96a33a\"\n",
    "\n",
    "# Create the client\n",
    "client = InfluxDBClient(url=INFLUX_HOST, token=INFLUX_TOKEN, org=INFLUX_ORG)\n",
    "\n",
    "# Check if the connection is successful\n",
    "try:\n",
    "    client.ping()\n",
    "    print(\"Connection to InfluxDB successful!\")\n",
    "except Exception as e:\n",
    "    print(f\"Failed to connect to InfluxDB: {e}\")"
   ]
  },
  {
   "cell_type": "markdown",
   "metadata": {},
   "source": [
    "### Create Speed query"
   ]
  },
  {
   "cell_type": "code",
   "execution_count": 12,
   "metadata": {},
   "outputs": [],
   "source": [
    "query_api = client.query_api()\n",
    "\n",
    "engine_hours_query = f'''\n",
    "from(bucket: \"{INFLUX_BUCKET}\")\n",
    "  |> range(start: 2025-04-30T08:00:00Z, stop: 2025-04-30T18:00:00Z)\n",
    "  |> filter(fn: (r) => r._measurement == \"EngineHours\")\n",
    "  |> filter(fn: (r) => \n",
    "      r.asset_id == \"cr8\" or \n",
    "      r.asset_id == \"cr9\" or \n",
    "      r.asset_id == \"cr10\" or\n",
    "      r.asset_id == \"cr11\" or\n",
    "      r.asset_id == \"cr12\" or\n",
    "      r.asset_id == \"cr13\" or\n",
    "      r.asset_id == \"cr14\" or\n",
    "      r.asset_id == \"cr15\")\n",
    "  |> filter(fn: (r) => r._field == \"engine_total_hours_of_operation\")\n",
    "  |> keep(columns: [\"asset_id\", \"_value\", \"_time\"])\n",
    "  |> rename(columns: {{_value: \"engine_hours\", _time: \"time_stamp\"}})\n",
    "'''\n",
    "\n",
    "# Run query\n",
    "tables = query_api.query(engine_hours_query)"
   ]
  },
  {
   "cell_type": "markdown",
   "metadata": {},
   "source": [
    "### Create pandas table"
   ]
  },
  {
   "cell_type": "code",
   "execution_count": 13,
   "metadata": {},
   "outputs": [
    {
     "name": "stdout",
     "output_type": "stream",
     "text": [
      "       asset_id  engine_hours                 time_stamp\n",
      "139729     cr15         115.0 2025-04-30 08:00:00.109037\n",
      "82274      cr13         105.0 2025-04-30 08:00:00.395426\n",
      "168464      cr8         148.0 2025-04-30 08:00:00.530044\n",
      "0          cr10          98.4 2025-04-30 08:00:00.548351\n",
      "53509      cr12         107.0 2025-04-30 08:00:00.908170\n",
      "...         ...           ...                        ...\n",
      "110904     cr13         105.0 2025-04-30 17:59:59.068514\n",
      "25168      cr10          99.9 2025-04-30 17:59:59.226807\n",
      "82273      cr12         107.0 2025-04-30 17:59:59.673039\n",
      "168463     cr15         115.0 2025-04-30 17:59:59.754725\n",
      "139728     cr14         115.0 2025-04-30 17:59:59.861732\n",
      "\n",
      "[225639 rows x 3 columns]\n"
     ]
    }
   ],
   "source": [
    "records = []\n",
    "for table in tables:\n",
    "    for record in table.records:\n",
    "        records.append({\n",
    "            \"asset_id\": record[\"asset_id\"],\n",
    "            \"engine_hours\": record[\"engine_hours\"],\n",
    "            \"time_stamp\": record[\"time_stamp\"]\n",
    "        })\n",
    "\n",
    "df = pd.DataFrame(records)\n",
    "\n",
    "# Convert time column to datetime\n",
    "df[\"time_stamp\"] = pd.to_datetime(df[\"time_stamp\"]).dt.tz_localize(None)\n",
    "#df[\"time_stamp\"] = pd.to_datetime(df[\"time_stamp\"], utc=True)\n",
    "\n",
    "df = df.sort_values(\"time_stamp\")\n",
    "print(df)"
   ]
  },
  {
   "cell_type": "markdown",
   "metadata": {},
   "source": [
    "### Plot Chart"
   ]
  },
  {
   "cell_type": "code",
   "execution_count": 14,
   "metadata": {},
   "outputs": [
    {
     "data": {
      "image/png": "[encoded data removed]",
      "text/plain": [
       "<Figure size 1200x600 with 1 Axes>"
      ]
     },
     "metadata": {},
     "output_type": "display_data"
    }
   ],
   "source": [
    "plt.figure(figsize=(12, 6))\n",
    "for asset_id, group in df.groupby(\"asset_id\"):\n",
    "    plt.plot(group[\"time_stamp\"], group[\"engine_hours\"], label=asset_id)\n",
    "\n",
    "plt.title(\"Engine Hours Over Time (cr8-cr15)\")\n",
    "plt.xlabel(\"Time\")\n",
    "plt.ylabel(\"Engine Hours\")\n",
    "plt.legend(title=\"Asset ID\")\n",
    "plt.grid(True)\n",
    "plt.tight_layout()\n",
    "plt.show()"
   ]
  },
  {
   "cell_type": "markdown",
   "metadata": {},
   "source": [
    "### Excel Export"
   ]
  },
  {
   "cell_type": "code",
   "execution_count": 15,
   "metadata": {},
   "outputs": [
    {
     "name": "stdout",
     "output_type": "stream",
     "text": [
      "Done exporting excel file!\n"
     ]
    }
   ],
   "source": [
    "excel_filename = \"/Users/mariorodriguez/Downloads/engine_hours_by_asset.xlsx\"\n",
    "\n",
    "# Write each asset_id to its own sheet\n",
    "with ExcelWriter(excel_filename, engine='openpyxl') as writer:\n",
    "    for asset_id, group in df.groupby(\"asset_id\"):\n",
    "        group.to_excel(writer, sheet_name=asset_id, index=False)\n",
    "\n",
    "workbook = load_workbook(excel_filename)\n",
    "for sheet_name in workbook.sheetnames:\n",
    "    ws = workbook[sheet_name]\n",
    "\n",
    "    for cell in ws[1]:\n",
    "        cell.font = Font(bold=True)\n",
    "\n",
    "    for col in ws.columns:\n",
    "        max_length = 0\n",
    "        column_letter = get_column_letter(col[0].column)\n",
    "        for cell in col:\n",
    "            try:\n",
    "                cell_len = len(str(cell.value))\n",
    "                if cell_len > max_length:\n",
    "                    max_length = cell_len\n",
    "            except:\n",
    "                pass\n",
    "        ws.column_dimensions[column_letter].width = max_length + 2\n",
    "\n",
    "    # Freeze header row\n",
    "    ws.freeze_panes = \"A2\"\n",
    "\n",
    "workbook.save(excel_filename)\n",
    "\n",
    "print(\"Done exporting excel file!\")"
   ]
  },
  {
   "cell_type": "markdown",
   "metadata": {},
   "source": [
    "### CSV Export"
   ]
  },
  {
   "cell_type": "code",
   "execution_count": 16,
   "metadata": {},
   "outputs": [
    {
     "name": "stdout",
     "output_type": "stream",
     "text": [
      "Done exporting csv file!\n"
     ]
    }
   ],
   "source": [
    "csv_filename = \"/Users/mariorodriguez/Downloads/engine_hours_by_asset.csv\"\n",
    "df.to_csv(csv_filename, index=False)\n",
    "\n",
    "print(\"Done exporting csv file!\")"
   ]
  },
  {
   "cell_type": "code",
   "execution_count": null,
   "metadata": {},
   "outputs": [],
   "source": []
  }
 ],
 "metadata": {
  "kernelspec": {
   "display_name": "Python (InfluxEnv)",
   "language": "python",
   "name": "influx-env"
  },
  "language_info": {
   "codemirror_mode": {
    "name": "ipython",
    "version": 3
   },
   "file_extension": ".py",
   "mimetype": "text/x-python",
   "name": "python",
   "nbconvert_exporter": "python",
   "pygments_lexer": "ipython3",
   "version": "3.13.3"
  }
 },
 "nbformat": 4,
 "nbformat_minor": 4
}
